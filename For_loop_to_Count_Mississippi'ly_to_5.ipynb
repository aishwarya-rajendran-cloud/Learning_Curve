{
  "nbformat": 4,
  "nbformat_minor": 0,
  "metadata": {
    "colab": {
      "provenance": [],
      "authorship_tag": "ABX9TyPmK6jm3IAbDm7komXEhHUW",
      "include_colab_link": true
    },
    "kernelspec": {
      "name": "python3",
      "display_name": "Python 3"
    },
    "language_info": {
      "name": "python"
    }
  },
  "cells": [
    {
      "cell_type": "markdown",
      "metadata": {
        "id": "view-in-github",
        "colab_type": "text"
      },
      "source": [
        "<a href=\"https://colab.research.google.com/github/aishwarya-rajendran-cloud/Learning_Curve/blob/main/For_loop_to_Count_Mississippi'ly_to_5.ipynb\" target=\"_parent\"><img src=\"https://colab.research.google.com/assets/colab-badge.svg\" alt=\"Open In Colab\"/></a>"
      ]
    },
    {
      "cell_type": "code",
      "execution_count": 2,
      "metadata": {
        "colab": {
          "base_uri": "https://localhost:8080/"
        },
        "id": "xyucB4WvoDRq",
        "outputId": "6b90e70f-aecf-43ed-a965-83e0d2082006"
      },
      "outputs": [
        {
          "output_type": "stream",
          "name": "stdout",
          "text": [
            "Mississippi\n",
            "Mississippi\n",
            "Mississippi\n",
            "Mississippi\n",
            "Mississippi\n"
          ]
        }
      ],
      "source": [
        "import time\n",
        "for n in range(0,5):\n",
        "    n += 1\n",
        "    time.sleep(1)\n",
        "    print(\"Mississippi\")"
      ]
    }
  ]
}