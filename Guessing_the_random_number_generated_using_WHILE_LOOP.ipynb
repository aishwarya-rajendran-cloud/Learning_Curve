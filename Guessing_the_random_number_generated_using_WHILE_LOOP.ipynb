{
  "nbformat": 4,
  "nbformat_minor": 0,
  "metadata": {
    "colab": {
      "provenance": [],
      "authorship_tag": "ABX9TyOPF8DLO6e01SOs9JlMAj41",
      "include_colab_link": true
    },
    "kernelspec": {
      "name": "python3",
      "display_name": "Python 3"
    },
    "language_info": {
      "name": "python"
    }
  },
  "cells": [
    {
      "cell_type": "markdown",
      "metadata": {
        "id": "view-in-github",
        "colab_type": "text"
      },
      "source": [
        "<a href=\"https://colab.research.google.com/github/aishwarya-rajendran-cloud/Learning_Curve/blob/main/Guessing_the_random_number_generated_using_WHILE_LOOP.ipynb\" target=\"_parent\"><img src=\"https://colab.research.google.com/assets/colab-badge.svg\" alt=\"Open In Colab\"/></a>"
      ]
    },
    {
      "cell_type": "code",
      "execution_count": 1,
      "metadata": {
        "id": "515G1gWUGvYQ",
        "colab": {
          "base_uri": "https://localhost:8080/"
        },
        "outputId": "ff179d07-e2a1-419a-85e2-9563f62ec11b"
      },
      "outputs": [
        {
          "output_type": "stream",
          "name": "stdout",
          "text": [
            "5\n",
            "Nope! Try Again!!\n",
            "2\n",
            "Nope! Try Again!!\n",
            "1\n",
            "Nope! Try Again!!\n",
            "3\n",
            "Nope! Try Again!!\n",
            "7\n",
            "Congrats!! your guess  7  is Correct!!\n"
          ]
        }
      ],
      "source": [
        "import random\n",
        "number = random.randint(1,7)\n",
        "number_of_guesses = 0\n",
        "while number_of_guesses <= 5:\n",
        "    guess = input()\n",
        "    guess = int(guess)\n",
        "    number_of_guesses += 1\n",
        "    if guess == number:\n",
        "        break\n",
        "    elif number_of_guesses == 5:\n",
        "        break\n",
        "    else:\n",
        "        print(\"Nope! Try Again!!\")\n",
        "if guess == number:\n",
        "    print(\"Congrats!! your guess  \" + str(number) + \"  is Correct!!\")\n",
        "else:\n",
        "    print(\"You maxed out the number of guesses... the answer is :\" + str(number))"
      ]
    }
  ]
}